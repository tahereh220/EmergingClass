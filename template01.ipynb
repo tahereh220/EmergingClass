{
  "nbformat": 4,
  "nbformat_minor": 0,
  "metadata": {
    "colab": {
      "name": "template01.ipynb",
      "provenance": [],
      "collapsed_sections": [],
      "mount_file_id": "12cpa-PX7xHUk8p3uR2gXmoBAn94g7Swt",
      "authorship_tag": "ABX9TyNOka1raoL+gtTgXQuVs+Qy",
      "include_colab_link": true
    },
    "kernelspec": {
      "name": "python3",
      "display_name": "Python 3"
    },
    "language_info": {
      "name": "python"
    }
  },
  "cells": [
    {
      "cell_type": "markdown",
      "metadata": {
        "id": "view-in-github",
        "colab_type": "text"
      },
      "source": [
        "<a href=\"https://colab.research.google.com/github/tahereh220/EmergingClass/blob/main/template01.ipynb\" target=\"_parent\"><img src=\"https://colab.research.google.com/assets/colab-badge.svg\" alt=\"Open In Colab\"/></a>"
      ]
    },
    {
      "cell_type": "code",
      "execution_count": null,
      "metadata": {
        "id": "KNXQBMBzN6IZ"
      },
      "outputs": [],
      "source": [
        "import tensorflow.keras\n",
        "import numpy as np\n",
        "import cv2"
      ]
    },
    {
      "cell_type": "code",
      "source": [
        "# Disable scientific notation for clarity\n",
        "np.set_printoptions(suppress=True)"
      ],
      "metadata": {
        "id": "F9ByawOmPjXd"
      },
      "execution_count": null,
      "outputs": []
    },
    {
      "cell_type": "code",
      "source": [
        "# Load the model\n",
        "model = tensorflow.keras.models.load_model('/content/drive/MyDrive/Colab Notebooks/Animals/AnimalDetect.h5')\n"
      ],
      "metadata": {
        "id": "jPo8OurKPngT"
      },
      "execution_count": null,
      "outputs": []
    },
    {
      "cell_type": "code",
      "source": [
        "# Create the array of the right shape to feed into the keras model\n",
        "# The 'length' or number of images you can put into the array is\n",
        "# determined by the first position in the shape tuple, in this case 1.\n",
        "data = np.ndarray(shape=(1, 224, 224, 3), dtype=np.float32)"
      ],
      "metadata": {
        "id": "oGAiW1mdPvzB"
      },
      "execution_count": null,
      "outputs": []
    },
    {
      "cell_type": "code",
      "source": [
        "# Replace this with the path to your image\n",
        "path = r'/content/drive/MyDrive/Colab Notebooks/Animals/Testing/test04.jpg'\n",
        "image = cv2.imread(path)\n",
        "#image = cam.read()\n"
      ],
      "metadata": {
        "id": "5vBeqshkP0PV"
      },
      "execution_count": null,
      "outputs": []
    },
    {
      "cell_type": "code",
      "source": [
        "image = cv2.resize(image,(224, 224))"
      ],
      "metadata": {
        "id": "S66CnCaYP6ew"
      },
      "execution_count": null,
      "outputs": []
    },
    {
      "cell_type": "code",
      "source": [
        "#turn the image into a numpy array\n",
        "image_array = np.asarray(image)"
      ],
      "metadata": {
        "id": "A4n3Z0RnQB67"
      },
      "execution_count": null,
      "outputs": []
    },
    {
      "cell_type": "code",
      "source": [
        "# Normalize the image\n",
        "normalized_image_array = (image_array.astype(np.float32) / 127.0) - 1"
      ],
      "metadata": {
        "id": "LQw9qqFSQLmk"
      },
      "execution_count": null,
      "outputs": []
    },
    {
      "cell_type": "code",
      "source": [
        "# Load the image into the array\n",
        "data[0] = normalized_image_array"
      ],
      "metadata": {
        "id": "KTX6qk30QQcy"
      },
      "execution_count": null,
      "outputs": []
    },
    {
      "cell_type": "code",
      "source": [
        "# run the inference\n",
        "prediction = model.predict(data)\n",
        "print(prediction)"
      ],
      "metadata": {
        "id": "XoggvFj8QUFU"
      },
      "execution_count": null,
      "outputs": []
    },
    {
      "cell_type": "code",
      "source": [
        "for i in prediction:\n",
        "  if i[0] > 0.7:\n",
        "    text =\"Dog\"\n",
        "  if i[1] > 0.7:\n",
        "    text =\"Cat\"\n",
        "  if i[2] > 0.7:\n",
        "    text =\"Horse\" "
      ],
      "metadata": {
        "id": "MfORnXfEQbyg"
      },
      "execution_count": null,
      "outputs": []
    },
    {
      "cell_type": "code",
      "source": [
        "print(text)"
      ],
      "metadata": {
        "id": "ytCWIIsJb5Pp"
      },
      "execution_count": null,
      "outputs": []
    }
  ]
}