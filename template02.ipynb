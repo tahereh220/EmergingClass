{
  "nbformat": 4,
  "nbformat_minor": 0,
  "metadata": {
    "colab": {
      "name": "template02.ipynb",
      "provenance": [],
      "collapsed_sections": [],
      "mount_file_id": "13yuh39v-lQuQuizp9Gs6W3XoKx77bU1X",
      "authorship_tag": "ABX9TyO3XYKsbYYrMukEB/G+qBiU",
      "include_colab_link": true
    },
    "kernelspec": {
      "name": "python3",
      "display_name": "Python 3"
    },
    "language_info": {
      "name": "python"
    }
  },
  "cells": [
    {
      "cell_type": "markdown",
      "metadata": {
        "id": "view-in-github",
        "colab_type": "text"
      },
      "source": [
        "<a href=\"https://colab.research.google.com/github/tahereh220/EmergingClass/blob/main/template02.ipynb\" target=\"_parent\"><img src=\"https://colab.research.google.com/assets/colab-badge.svg\" alt=\"Open In Colab\"/></a>"
      ]
    },
    {
      "cell_type": "code",
      "execution_count": null,
      "metadata": {
        "id": "KNXQBMBzN6IZ"
      },
      "outputs": [],
      "source": [
        "import numpy as np\n",
        "import os\n",
        "import PIL\n",
        "import tensorflow as tf\n",
        "from tensorflow import keras\n",
        "import cv2"
      ]
    },
    {
      "cell_type": "code",
      "source": [
        "import pathlib\n",
        "\n",
        "data = pathlib.Path('/content/drive/MyDrive/Aneesh-shared/ML class/DataSets/Traing_dataset') \n",
        "count = len(list(data.glob('*/*.*')))\n",
        "count\n"
      ],
      "metadata": {
        "id": "jnJg7JseUvel"
      },
      "execution_count": null,
      "outputs": []
    },
    {
      "cell_type": "code",
      "source": [
        "dogs = list(data.glob('Dog-Training/*'))\n",
        "PIL.Image.open(str(dogs[50]))"
      ],
      "metadata": {
        "id": "stGapjz5maWY"
      },
      "execution_count": null,
      "outputs": []
    },
    {
      "cell_type": "code",
      "source": [
        "print(dogs[50])\n",
        "print(type(dogs[50]))"
      ],
      "metadata": {
        "id": "YcimZVYhNrPJ"
      },
      "execution_count": null,
      "outputs": []
    },
    {
      "cell_type": "code",
      "source": [
        "dog_paths = [str(x) for x in dogs]\n",
        "print(dog_paths[50])\n",
        "print(type(dog_paths[50]))\n"
      ],
      "metadata": {
        "id": "07evq-g1TN-0"
      },
      "execution_count": null,
      "outputs": []
    },
    {
      "cell_type": "code",
      "source": [
        "dog_images = [cv2.imread(x) for x in dog_paths]\n",
        "# print(dog_images[50])"
      ],
      "metadata": {
        "id": "XU6WKgGxToMo"
      },
      "execution_count": null,
      "outputs": []
    },
    {
      "cell_type": "code",
      "source": [
        "cats = list(data.glob('Cat-Training/*'))\n",
        "# PIL.Image.open(str(cats[50]))\n",
        "cat_paths = [str(x) for x in cats]\n",
        "cat_images = [cv2.imread(x) for x in cat_paths]"
      ],
      "metadata": {
        "id": "v9MwmQTBuJw6"
      },
      "execution_count": null,
      "outputs": []
    },
    {
      "cell_type": "code",
      "source": [
        "horses = list(data.glob('Horse-Training/*'))\n",
        "# PIL.Image.open(str(horses[100]))\n",
        "horse_paths = [str(x) for x in horses]\n",
        "horse_images = [cv2.imread(x) for x in horse_paths]"
      ],
      "metadata": {
        "id": "VFUD4mQ2urEK"
      },
      "execution_count": null,
      "outputs": []
    },
    {
      "cell_type": "code",
      "source": [
        "print(np.shape(dog_images[50]))\n",
        "print(type(dog_images[50]))"
      ],
      "metadata": {
        "id": "CEGkrPFBaVfo"
      },
      "execution_count": null,
      "outputs": []
    },
    {
      "cell_type": "code",
      "source": [
        "#resize images\n",
        "\n",
        "dog_images = [cv2.resize(x,(224, 224)) for x in dog_images]\n",
        "cat_images = [cv2.resize(x,(224, 224)) for x in cat_images]\n",
        "horse_images = [cv2.resize(x,(224, 224)) for x in horse_images]"
      ],
      "metadata": {
        "id": "-NRXvy_CXamw"
      },
      "execution_count": null,
      "outputs": []
    },
    {
      "cell_type": "code",
      "source": [
        "print(np.shape(dog_images[50]))\n",
        "print(type(dog_images[50]))"
      ],
      "metadata": {
        "id": "eiZZZRphYyAF"
      },
      "execution_count": null,
      "outputs": []
    },
    {
      "cell_type": "code",
      "source": [
        "# Normalize all images\n",
        "normalized_dog_images = [(x.astype(np.float32) / 127.0) - 1 for x in dog_images]\n",
        "normalized_cat_images = [(x.astype(np.float32) / 127.0) - 1 for x in cat_images]\n",
        "normalized_horse_images = [(x.astype(np.float32) / 127.0) - 1 for x in horse_images]"
      ],
      "metadata": {
        "id": "7lwtnL2yYsRZ"
      },
      "execution_count": null,
      "outputs": []
    },
    {
      "cell_type": "code",
      "source": [
        "print(np.shape(normalized_dog_images))\n",
        "print(np.shape(normalized_cat_images))\n",
        "print(np.shape(normalized_horse_images))"
      ],
      "metadata": {
        "id": "XagVaq_hiIXa"
      },
      "execution_count": null,
      "outputs": []
    },
    {
      "cell_type": "code",
      "source": [
        "input_train = np.concatenate((normalized_dog_images, normalized_cat_images, normalized_horse_images), axis=0)\n",
        "print(np.shape(input_train))\n",
        "print(type(input_train))"
      ],
      "metadata": {
        "id": "sB4jnFNLgtX5"
      },
      "execution_count": null,
      "outputs": []
    },
    {
      "cell_type": "code",
      "source": [
        "np.shape(normalized_dog_images)[0]"
      ],
      "metadata": {
        "id": "cPX_SFikmnpC"
      },
      "execution_count": null,
      "outputs": []
    },
    {
      "cell_type": "code",
      "source": [
        "print(np.full(np.shape(normalized_dog_images)[0], 0))"
      ],
      "metadata": {
        "id": "qz-gfmYmoEnF"
      },
      "execution_count": null,
      "outputs": []
    },
    {
      "cell_type": "code",
      "source": [
        "output_train = np.concatenate(((np.full(np.shape(normalized_dog_images)[0], 0)), \n",
        "                               (np.full(np.shape(normalized_cat_images)[0], 1)), \n",
        "                               (np.full(np.shape(normalized_horse_images)[0], 2))), axis=0)"
      ],
      "metadata": {
        "id": "4Y72V1NtoVvZ"
      },
      "execution_count": null,
      "outputs": []
    },
    {
      "cell_type": "code",
      "source": [
        "print(np.shape(output_train))"
      ],
      "metadata": {
        "id": "Nb--FI-go0Le"
      },
      "execution_count": null,
      "outputs": []
    },
    {
      "cell_type": "code",
      "source": [
        "# Load the model\n",
        "\n",
        "model = tf.keras.models.load_model('/content/drive/MyDrive/Colab Notebooks/Animals/AnimalDetect.h5')\n",
        "model.summary()  # let's have a look at our model so far\n"
      ],
      "metadata": {
        "id": "jPo8OurKPngT"
      },
      "execution_count": null,
      "outputs": []
    },
    {
      "cell_type": "code",
      "source": [
        "# compile with (optimizer, loss, metrics)\n",
        "model.compile(optimizer='adam',\n",
        "              loss=tf.keras.losses.SparseCategoricalCrossentropy(from_logits=True),\n",
        "              metrics=['accuracy'])\n",
        "\n",
        "# fit/training\n",
        "history = model.fit(input_train, output_train, batch_size=16, epochs=5, shuffle=True, verbose=2)\n"
      ],
      "metadata": {
        "id": "iMY9iYB7EUDM"
      },
      "execution_count": null,
      "outputs": []
    },
    {
      "cell_type": "code",
      "source": [
        "# Create the array of the right shape to feed into the keras model\n",
        "# The 'length' or number of images you can put into the array is\n",
        "# determined by the first position in the shape tuple, in this case 1.\n",
        "data = np.ndarray(shape=(1, 224, 224, 3), dtype=np.float32)"
      ],
      "metadata": {
        "id": "oGAiW1mdPvzB"
      },
      "execution_count": null,
      "outputs": []
    },
    {
      "cell_type": "code",
      "source": [
        "# The path to the image\n",
        "path = '/content/drive/MyDrive/Colab Notebooks/Animals/Testing/test15.jpg'\n",
        "image = cv2.imread(path)\n",
        "#image = cam.read()\n"
      ],
      "metadata": {
        "id": "5vBeqshkP0PV"
      },
      "execution_count": null,
      "outputs": []
    },
    {
      "cell_type": "code",
      "source": [
        "image = cv2.resize(image,(224, 224))"
      ],
      "metadata": {
        "id": "S66CnCaYP6ew"
      },
      "execution_count": null,
      "outputs": []
    },
    {
      "cell_type": "code",
      "source": [
        "#Convert the image into an array\n",
        "image_array = np.asarray(image)"
      ],
      "metadata": {
        "id": "A4n3Z0RnQB67"
      },
      "execution_count": null,
      "outputs": []
    },
    {
      "cell_type": "code",
      "source": [
        "# Normalize the image\n",
        "normalized_image_array = (image_array.astype(np.float32) / 127.0) - 1"
      ],
      "metadata": {
        "id": "LQw9qqFSQLmk"
      },
      "execution_count": null,
      "outputs": []
    },
    {
      "cell_type": "code",
      "source": [
        "# Put the image into the array\n",
        "data[0] = normalized_image_array"
      ],
      "metadata": {
        "id": "KTX6qk30QQcy"
      },
      "execution_count": null,
      "outputs": []
    },
    {
      "cell_type": "code",
      "source": [
        "# run the inference\n",
        "prediction = model.predict(data)\n",
        "print(prediction)"
      ],
      "metadata": {
        "id": "XoggvFj8QUFU"
      },
      "execution_count": null,
      "outputs": []
    },
    {
      "cell_type": "code",
      "source": [
        "for i in prediction:\n",
        "  if i[0] > 0.7:\n",
        "    text =\"Dog\"\n",
        "  if i[1] > 0.7:\n",
        "    text =\"Cat\"\n",
        "  if i[2] > 0.7:\n",
        "    text =\"Horse\" "
      ],
      "metadata": {
        "id": "MfORnXfEQbyg"
      },
      "execution_count": null,
      "outputs": []
    },
    {
      "cell_type": "code",
      "source": [
        "print(text)"
      ],
      "metadata": {
        "id": "ytCWIIsJb5Pp"
      },
      "execution_count": null,
      "outputs": []
    }
  ]
}